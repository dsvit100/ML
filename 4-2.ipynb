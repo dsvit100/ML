{
 "cells": [
  {
   "cell_type": "markdown",
   "id": "f997f7ab-af21-4e6d-9cf3-336e6a0dae0c",
   "metadata": {},
   "source": [
    "### 확률적 경사 하강법(SGD)\n",
    "- 데이터를 랜덤하게 추출해서 사용"
   ]
  },
  {
   "cell_type": "markdown",
   "id": "c731ceed-631b-441e-9e0d-0163415fef26",
   "metadata": {},
   "source": [
    "### 손실함수(실패율)\n",
    "- 러신머닝 알고리즘이 얼마나 엉터리인지를 측정하는 지표\n",
    "- 수치가 높으면 bad, 수치가 낮으면 good\n",
    "- 만들고있는 그래프 선이 잘 나아가고 있는지 점진적으로 하나씩 값을 넣어서 확인(미분)\n",
    "- 연속된 데이터여야 함, 끊어져있는 데이터로는 학습 불가"
   ]
  },
  {
   "cell_type": "code",
   "execution_count": 31,
   "id": "41aeb4d4-005f-4f62-ba2e-5212bc4a572a",
   "metadata": {
    "scrolled": true
   },
   "outputs": [],
   "source": [
    "import pandas as pd\n",
    "\n",
    "df = pd.read_csv('data/Fish.csv')"
   ]
  },
  {
   "cell_type": "code",
   "execution_count": 32,
   "id": "9a3af252-ec99-4a16-92d5-69d856d794fd",
   "metadata": {},
   "outputs": [],
   "source": [
    "fish_input = df[['Weight', 'Length2', 'Length3', 'Height', 'Width']]\n",
    "fish_target = df[['Species']]"
   ]
  },
  {
   "cell_type": "code",
   "execution_count": 40,
   "id": "7497de3f-9c18-447e-8a90-2c60a5628d63",
   "metadata": {},
   "outputs": [],
   "source": [
    "# 데이터 나누기\n",
    "from sklearn.model_selection import train_test_split\n",
    "\n",
    "train_input, test_input, train_target, test_target = \\\n",
    "train_test_split(fish_input, fish_target)"
   ]
  },
  {
   "cell_type": "code",
   "execution_count": 45,
   "id": "e4b0ccd1-8e63-4a48-b2db-41181571a10f",
   "metadata": {},
   "outputs": [],
   "source": [
    "# 데이터 규격화\n",
    "from sklearn.preprocessing import StandardScaler\n",
    "\n",
    "ss = StandardScaler()\n",
    "ss.fit(train_input)\n",
    "train_scaled = ss.transform(train_input)\n",
    "test_scaled = ss.transform(test_input)"
   ]
  },
  {
   "cell_type": "code",
   "execution_count": 53,
   "id": "99929ba5-b783-45a3-88c1-a3775f5d72ef",
   "metadata": {},
   "outputs": [
    {
     "name": "stdout",
     "output_type": "stream",
     "text": [
      "0.8151260504201681\n",
      "0.825\n"
     ]
    },
    {
     "name": "stderr",
     "output_type": "stream",
     "text": [
      "C:\\Users\\유승준\\Desktop\\DAMF2\\ML\\venv\\Lib\\site-packages\\sklearn\\utils\\validation.py:1408: DataConversionWarning: A column-vector y was passed when a 1d array was expected. Please change the shape of y to (n_samples, ), for example using ravel().\n",
      "  y = column_or_1d(y, warn=True)\n"
     ]
    }
   ],
   "source": [
    "from sklearn.linear_model import SGDClassifier\n",
    "\n",
    "sc = SGDClassifier(max_iter=100)\n",
    "# sc = SGDClassifier(loss='log_loss', max_iter=100)\n",
    "# loss='hinge' 뜻이 뭘깡, 값을 주지 않으면 기본이라는데 기본이 대체로 제일 기능이 좋다고 함\n",
    "# max_iter = 반복을 몇 번 할지, n번의 선을 그어줌\n",
    "sc.fit(train_scaled, train_target)\n",
    "\n",
    "print(sc.score(train_scaled, train_target))\n",
    "print(sc.score(test_scaled, test_target))"
   ]
  },
  {
   "cell_type": "code",
   "execution_count": 52,
   "id": "1316dc6f-c8e2-4e8f-b98b-7a05fd942093",
   "metadata": {},
   "outputs": [
    {
     "name": "stdout",
     "output_type": "stream",
     "text": [
      "0.8823529411764706\n",
      "0.85\n"
     ]
    },
    {
     "name": "stderr",
     "output_type": "stream",
     "text": [
      "C:\\Users\\유승준\\Desktop\\DAMF2\\ML\\venv\\Lib\\site-packages\\sklearn\\utils\\validation.py:1408: DataConversionWarning: A column-vector y was passed when a 1d array was expected. Please change the shape of y to (n_samples, ), for example using ravel().\n",
      "  y = column_or_1d(y, warn=True)\n"
     ]
    }
   ],
   "source": [
    "sc.partial_fit(train_scaled, train_target)\n",
    "# 위의 10번 돌린 후에 추가로 에포크 10번 더 돌려줘\n",
    "\n",
    "print(sc.score(train_scaled, train_target))\n",
    "print(sc.score(test_scaled, test_target))"
   ]
  },
  {
   "cell_type": "code",
   "execution_count": null,
   "id": "0e471f18-2072-43ae-9944-f429378543db",
   "metadata": {},
   "outputs": [],
   "source": []
  }
 ],
 "metadata": {
  "kernelspec": {
   "display_name": "Python 3 (ipykernel)",
   "language": "python",
   "name": "python3"
  },
  "language_info": {
   "codemirror_mode": {
    "name": "ipython",
    "version": 3
   },
   "file_extension": ".py",
   "mimetype": "text/x-python",
   "name": "python",
   "nbconvert_exporter": "python",
   "pygments_lexer": "ipython3",
   "version": "3.13.2"
  }
 },
 "nbformat": 4,
 "nbformat_minor": 5
}
