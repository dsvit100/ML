{
 "cells": [
  {
   "cell_type": "markdown",
   "id": "f4ccbfe1-1846-4384-b07c-77656a20a8e0",
   "metadata": {},
   "source": [
    "## 랜덤 포레스트\n",
    "- 앙상블 학습이 정형 데이터를 다룰 때 가장 뛰어남\n",
    "- 정형데이터(표, 숫자)에서 성능이 좋음\n",
    "- 샘플 뽑을 때 같은 데이터가 중복되어 생성될 수 있음 (부트스트랩 샘플링)\n",
    "- 한번도 사용되지 않은 샘플 = OOB\n",
    "- OOB를 테스트셋에 넣어본 점수는 = oob_scores_"
   ]
  },
  {
   "cell_type": "code",
   "execution_count": 31,
   "id": "f96bfe10-3ccf-43a6-a236-d18abedf2605",
   "metadata": {},
   "outputs": [],
   "source": [
    "import pandas as pd\n",
    "import numpy as np\n",
    "\n",
    "df = pd.read_csv('http://bit.ly/wine_csv_data')\n",
    "\n",
    "data = df[['alcohol', 'sugar', 'pH']]\n",
    "target = df[['class']]\n"
   ]
  },
  {
   "cell_type": "code",
   "execution_count": 32,
   "id": "1013cec5-2441-42fb-8f44-89eefd1b549d",
   "metadata": {},
   "outputs": [],
   "source": [
    "from sklearn.model_selection import train_test_split\n",
    "train_input, test_input, train_target, test_target = \\\n",
    "train_test_split(data, target)"
   ]
  },
  {
   "cell_type": "code",
   "execution_count": 38,
   "id": "2258f95f-5f6c-4eaf-92bf-2b051269270e",
   "metadata": {},
   "outputs": [
    {
     "name": "stderr",
     "output_type": "stream",
     "text": [
      "C:\\Users\\유승준\\Desktop\\DAMF2\\ML\\venv\\Lib\\site-packages\\sklearn\\base.py:1389: DataConversionWarning: A column-vector y was passed when a 1d array was expected. Please change the shape of y to (n_samples,), for example using ravel().\n",
      "  return fit_method(estimator, *args, **kwargs)\n",
      "C:\\Users\\유승준\\Desktop\\DAMF2\\ML\\venv\\Lib\\site-packages\\sklearn\\base.py:1389: DataConversionWarning: A column-vector y was passed when a 1d array was expected. Please change the shape of y to (n_samples,), for example using ravel().\n",
      "  return fit_method(estimator, *args, **kwargs)\n",
      "C:\\Users\\유승준\\Desktop\\DAMF2\\ML\\venv\\Lib\\site-packages\\sklearn\\base.py:1389: DataConversionWarning: A column-vector y was passed when a 1d array was expected. Please change the shape of y to (n_samples,), for example using ravel().\n",
      "  return fit_method(estimator, *args, **kwargs)\n",
      "C:\\Users\\유승준\\Desktop\\DAMF2\\ML\\venv\\Lib\\site-packages\\sklearn\\base.py:1389: DataConversionWarning: A column-vector y was passed when a 1d array was expected. Please change the shape of y to (n_samples,), for example using ravel().\n",
      "  return fit_method(estimator, *args, **kwargs)\n",
      "C:\\Users\\유승준\\Desktop\\DAMF2\\ML\\venv\\Lib\\site-packages\\sklearn\\base.py:1389: DataConversionWarning: A column-vector y was passed when a 1d array was expected. Please change the shape of y to (n_samples,), for example using ravel().\n",
      "  return fit_method(estimator, *args, **kwargs)\n"
     ]
    }
   ],
   "source": [
    "from sklearn.model_selection import cross_validate\n",
    "from sklearn.ensemble import RandomForestClassifier\n",
    "\n",
    "rf = RandomForestClassifier()\n",
    "scores = cross_validate(rf, train_input, train_target, return_train_score=True)"
   ]
  },
  {
   "cell_type": "code",
   "execution_count": 34,
   "id": "eb286ad8-a180-4f10-898d-b2c58a227441",
   "metadata": {},
   "outputs": [
    {
     "name": "stdout",
     "output_type": "stream",
     "text": [
      "0.9979474679776962\n",
      "0.8903922497762332\n"
     ]
    }
   ],
   "source": [
    "print(np.mean(scores['train_score']))\n",
    "print(np.mean(scores['test_score']))"
   ]
  },
  {
   "cell_type": "code",
   "execution_count": 35,
   "id": "01ca4a54-c17e-4d35-9a44-e2b093f77528",
   "metadata": {},
   "outputs": [
    {
     "name": "stderr",
     "output_type": "stream",
     "text": [
      "C:\\Users\\유승준\\Desktop\\DAMF2\\ML\\venv\\Lib\\site-packages\\sklearn\\base.py:1389: DataConversionWarning: A column-vector y was passed when a 1d array was expected. Please change the shape of y to (n_samples,), for example using ravel().\n",
      "  return fit_method(estimator, *args, **kwargs)\n"
     ]
    },
    {
     "data": {
      "text/plain": [
       "array([0.23090448, 0.50155502, 0.26754051])"
      ]
     },
     "execution_count": 35,
     "metadata": {},
     "output_type": "execute_result"
    }
   ],
   "source": [
    "rf.fit(train_input, train_target)\n",
    "rf.feature_importances_\n",
    "# 컬럼의 중요도 (알콜 / 당도 / pH)"
   ]
  },
  {
   "cell_type": "code",
   "execution_count": 36,
   "id": "e957d861-83d2-48bb-b40a-f9c68e7f74a4",
   "metadata": {},
   "outputs": [
    {
     "name": "stderr",
     "output_type": "stream",
     "text": [
      "C:\\Users\\유승준\\Desktop\\DAMF2\\ML\\venv\\Lib\\site-packages\\sklearn\\base.py:1389: DataConversionWarning: A column-vector y was passed when a 1d array was expected. Please change the shape of y to (n_samples,), for example using ravel().\n",
      "  return fit_method(estimator, *args, **kwargs)\n"
     ]
    },
    {
     "data": {
      "text/plain": [
       "0.8940886699507389"
      ]
     },
     "execution_count": 36,
     "metadata": {},
     "output_type": "execute_result"
    }
   ],
   "source": [
    "rf = RandomForestClassifier(oob_score=True, n_jobs=1)\n",
    "rf.fit(train_input, train_target)\n",
    "rf.oob_score_"
   ]
  },
  {
   "cell_type": "markdown",
   "id": "e15c056a-3a04-4779-a0e6-eca15556d39d",
   "metadata": {},
   "source": [
    "### 엑스트라 트리\n",
    "- 노드를 분할하기 위한 고민을 줄이고 무조건 많이! 돌리므로 속도가 빠르고 과대적합을 막을 수 있음\n",
    "- 랜덤 포레스트에 비해 점수가 좀 낮을 수 있지만 크게 차이가 나진 않음\n",
    "  "
   ]
  },
  {
   "cell_type": "code",
   "execution_count": 40,
   "id": "403ebdcd-5ccf-4391-868c-a3c802480014",
   "metadata": {},
   "outputs": [
    {
     "name": "stderr",
     "output_type": "stream",
     "text": [
      "C:\\Users\\유승준\\Desktop\\DAMF2\\ML\\venv\\Lib\\site-packages\\sklearn\\base.py:1389: DataConversionWarning: A column-vector y was passed when a 1d array was expected. Please change the shape of y to (n_samples,), for example using ravel().\n",
      "  return fit_method(estimator, *args, **kwargs)\n",
      "C:\\Users\\유승준\\Desktop\\DAMF2\\ML\\venv\\Lib\\site-packages\\sklearn\\base.py:1389: DataConversionWarning: A column-vector y was passed when a 1d array was expected. Please change the shape of y to (n_samples,), for example using ravel().\n",
      "  return fit_method(estimator, *args, **kwargs)\n",
      "C:\\Users\\유승준\\Desktop\\DAMF2\\ML\\venv\\Lib\\site-packages\\sklearn\\base.py:1389: DataConversionWarning: A column-vector y was passed when a 1d array was expected. Please change the shape of y to (n_samples,), for example using ravel().\n",
      "  return fit_method(estimator, *args, **kwargs)\n",
      "C:\\Users\\유승준\\Desktop\\DAMF2\\ML\\venv\\Lib\\site-packages\\sklearn\\base.py:1389: DataConversionWarning: A column-vector y was passed when a 1d array was expected. Please change the shape of y to (n_samples,), for example using ravel().\n",
      "  return fit_method(estimator, *args, **kwargs)\n",
      "C:\\Users\\유승준\\Desktop\\DAMF2\\ML\\venv\\Lib\\site-packages\\sklearn\\base.py:1389: DataConversionWarning: A column-vector y was passed when a 1d array was expected. Please change the shape of y to (n_samples,), for example using ravel().\n",
      "  return fit_method(estimator, *args, **kwargs)\n"
     ]
    },
    {
     "name": "stdout",
     "output_type": "stream",
     "text": [
      "{'fit_time': array([0.28555179, 0.27328181, 0.26636147, 0.28167987, 0.27898502]), 'score_time': array([0.02693152, 0.02442002, 0.02480936, 0.02518773, 0.02725458]), 'test_score': array([0.87589744, 0.91076923, 0.89527721, 0.87782341, 0.88809035]), 'train_score': array([0.99820375, 0.99794714, 0.99794767, 0.99794767, 0.99794767])}\n"
     ]
    }
   ],
   "source": [
    "from sklearn.ensemble import ExtraTreesClassifier\n",
    "et = ExtraTreesClassifier()\n",
    "\n",
    "scores = cross_validate(et, train_input, train_target,\n",
    "                        return_train_score=True)\n",
    "print(scores)"
   ]
  },
  {
   "cell_type": "markdown",
   "id": "b209835b-1645-45dd-8cdd-d109431f310e",
   "metadata": {},
   "source": [
    "### 그레이디언트 부스팅\n",
    "- 깊이가 얕은 결정트리를 이용\n",
    "- 과대적합을 막고 일반화된 모델"
   ]
  },
  {
   "cell_type": "code",
   "execution_count": 44,
   "id": "7941f153-1c15-4edd-af5e-fd779ae12290",
   "metadata": {},
   "outputs": [
    {
     "name": "stderr",
     "output_type": "stream",
     "text": [
      "C:\\Users\\유승준\\Desktop\\DAMF2\\ML\\venv\\Lib\\site-packages\\sklearn\\preprocessing\\_label.py:110: DataConversionWarning: A column-vector y was passed when a 1d array was expected. Please change the shape of y to (n_samples, ), for example using ravel().\n",
      "  y = column_or_1d(y, warn=True)\n",
      "C:\\Users\\유승준\\Desktop\\DAMF2\\ML\\venv\\Lib\\site-packages\\sklearn\\preprocessing\\_label.py:110: DataConversionWarning: A column-vector y was passed when a 1d array was expected. Please change the shape of y to (n_samples, ), for example using ravel().\n",
      "  y = column_or_1d(y, warn=True)\n",
      "C:\\Users\\유승준\\Desktop\\DAMF2\\ML\\venv\\Lib\\site-packages\\sklearn\\preprocessing\\_label.py:110: DataConversionWarning: A column-vector y was passed when a 1d array was expected. Please change the shape of y to (n_samples, ), for example using ravel().\n",
      "  y = column_or_1d(y, warn=True)\n",
      "C:\\Users\\유승준\\Desktop\\DAMF2\\ML\\venv\\Lib\\site-packages\\sklearn\\preprocessing\\_label.py:110: DataConversionWarning: A column-vector y was passed when a 1d array was expected. Please change the shape of y to (n_samples, ), for example using ravel().\n",
      "  y = column_or_1d(y, warn=True)\n",
      "C:\\Users\\유승준\\Desktop\\DAMF2\\ML\\venv\\Lib\\site-packages\\sklearn\\preprocessing\\_label.py:110: DataConversionWarning: A column-vector y was passed when a 1d array was expected. Please change the shape of y to (n_samples, ), for example using ravel().\n",
      "  y = column_or_1d(y, warn=True)\n"
     ]
    },
    {
     "name": "stdout",
     "output_type": "stream",
     "text": [
      "0.923080824299072\n"
     ]
    },
    {
     "data": {
      "text/plain": [
       "(None, np.float64(0.87766692992155))"
      ]
     },
     "execution_count": 44,
     "metadata": {},
     "output_type": "execute_result"
    }
   ],
   "source": [
    "from sklearn.ensemble import GradientBoostingClassifier\n",
    "gb = GradientBoostingClassifier(n_estimators=500) # 나무 그루수를 조정할 수 있음\n",
    "scores = cross_validate(gb, train_input, train_target,\n",
    "                        return_train_score=True)\n",
    "\n",
    "print(np.mean(scores['train_score'])), np.mean(scores['test_score'])"
   ]
  },
  {
   "cell_type": "markdown",
   "id": "f30617b0-6fc3-4764-9ed6-1d47eade7e99",
   "metadata": {},
   "source": [
    "### 히스토그램 기반 그레디언트 부스팅.......\n",
    "- 256개의 구간 = 256개의 히스토그램 범위를 준다"
   ]
  },
  {
   "cell_type": "code",
   "execution_count": 46,
   "id": "0adadd64-6c7f-4e27-b612-64b355457722",
   "metadata": {},
   "outputs": [
    {
     "name": "stderr",
     "output_type": "stream",
     "text": [
      "C:\\Users\\유승준\\Desktop\\DAMF2\\ML\\venv\\Lib\\site-packages\\sklearn\\preprocessing\\_label.py:110: DataConversionWarning: A column-vector y was passed when a 1d array was expected. Please change the shape of y to (n_samples, ), for example using ravel().\n",
      "  y = column_or_1d(y, warn=True)\n",
      "C:\\Users\\유승준\\Desktop\\DAMF2\\ML\\venv\\Lib\\site-packages\\sklearn\\preprocessing\\_label.py:110: DataConversionWarning: A column-vector y was passed when a 1d array was expected. Please change the shape of y to (n_samples, ), for example using ravel().\n",
      "  y = column_or_1d(y, warn=True)\n",
      "C:\\Users\\유승준\\Desktop\\DAMF2\\ML\\venv\\Lib\\site-packages\\sklearn\\preprocessing\\_label.py:110: DataConversionWarning: A column-vector y was passed when a 1d array was expected. Please change the shape of y to (n_samples, ), for example using ravel().\n",
      "  y = column_or_1d(y, warn=True)\n",
      "C:\\Users\\유승준\\Desktop\\DAMF2\\ML\\venv\\Lib\\site-packages\\sklearn\\preprocessing\\_label.py:110: DataConversionWarning: A column-vector y was passed when a 1d array was expected. Please change the shape of y to (n_samples, ), for example using ravel().\n",
      "  y = column_or_1d(y, warn=True)\n",
      "C:\\Users\\유승준\\Desktop\\DAMF2\\ML\\venv\\Lib\\site-packages\\sklearn\\preprocessing\\_label.py:110: DataConversionWarning: A column-vector y was passed when a 1d array was expected. Please change the shape of y to (n_samples, ), for example using ravel().\n",
      "  y = column_or_1d(y, warn=True)\n"
     ]
    },
    {
     "name": "stdout",
     "output_type": "stream",
     "text": [
      "0.923080824299072\n"
     ]
    },
    {
     "data": {
      "text/plain": [
       "(None, np.float64(0.87766692992155))"
      ]
     },
     "execution_count": 46,
     "metadata": {},
     "output_type": "execute_result"
    }
   ],
   "source": [
    "from sklearn.ensemble import HistGradientBoostingClassifier\n",
    "\n",
    "hgb = HistGradientBoostingClassifier()\n",
    "scores = cross_validate(gb, train_input, train_target,\n",
    "                        return_train_score=True)\n",
    "print(np.mean(scores['train_score'])), np.mean(scores['test_score'])"
   ]
  },
  {
   "cell_type": "code",
   "execution_count": null,
   "id": "e2fbdc28-3e90-4278-91ea-7c254e07e3ee",
   "metadata": {},
   "outputs": [],
   "source": []
  },
  {
   "cell_type": "code",
   "execution_count": 48,
   "id": "5ac1628d-3383-438e-b6f3-8f9149afef0b",
   "metadata": {},
   "outputs": [
    {
     "name": "stderr",
     "output_type": "stream",
     "text": [
      "C:\\Users\\유승준\\Desktop\\DAMF2\\ML\\venv\\Lib\\site-packages\\sklearn\\utils\\validation.py:1408: DataConversionWarning: A column-vector y was passed when a 1d array was expected. Please change the shape of y to (n_samples, ), for example using ravel().\n",
      "  y = column_or_1d(y, warn=True)\n"
     ]
    },
    {
     "name": "stdout",
     "output_type": "stream",
     "text": [
      "[0.09121511 0.24454023 0.088711  ]\n"
     ]
    }
   ],
   "source": [
    "from sklearn.inspection import permutation_importance\n",
    "\n",
    "hgb.fit(train_input, train_target)\n",
    "# 하나씩 섞었을 때 변화값을 알기 위해서 먼저 기본 값으로 러닝시킴\n",
    "scores = permutation_importance(hgb, train_input, train_target)\n",
    "print(scores.importances_mean)\n",
    "# 각 칼럼별 주요도 (어떤 칼럼을 섞었을 때 영향이 제일 컸는가)"
   ]
  }
 ],
 "metadata": {
  "kernelspec": {
   "display_name": "Python 3 (ipykernel)",
   "language": "python",
   "name": "python3"
  },
  "language_info": {
   "codemirror_mode": {
    "name": "ipython",
    "version": 3
   },
   "file_extension": ".py",
   "mimetype": "text/x-python",
   "name": "python",
   "nbconvert_exporter": "python",
   "pygments_lexer": "ipython3",
   "version": "3.13.2"
  }
 },
 "nbformat": 4,
 "nbformat_minor": 5
}
