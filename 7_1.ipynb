{
  "nbformat": 4,
  "nbformat_minor": 0,
  "metadata": {
    "colab": {
      "provenance": []
    },
    "kernelspec": {
      "name": "python3",
      "display_name": "Python 3"
    },
    "language_info": {
      "name": "python"
    }
  },
  "cells": [
    {
      "cell_type": "code",
      "execution_count": 3,
      "metadata": {
        "id": "Z_cH2kApizD4"
      },
      "outputs": [],
      "source": [
        "# 텐서플로가 윈도우 지원을 없애고 있대ㅠㅠ 나중에 리눅스..버전으로..예..\n",
        "# 신경망의 깊이를 어떻게 줄지 등...\n",
        "# 층 만들고 - 층 등록 - 학습할 방향 제시"
      ]
    },
    {
      "cell_type": "code",
      "source": [
        "from tensorflow import keras\n",
        "# 딥러닝 라이브러리(tensorflw, PyTorch)"
      ],
      "metadata": {
        "id": "t9LSM7HijJB0"
      },
      "execution_count": 5,
      "outputs": []
    },
    {
      "cell_type": "code",
      "source": [
        "(train_input, train_target), (test_input, test_target) = keras.datasets.fashion_mnist.load_data()\n",
        "# train = 6만개, test = 만개"
      ],
      "metadata": {
        "id": "sMjAoqgojXvX"
      },
      "execution_count": 8,
      "outputs": []
    },
    {
      "cell_type": "code",
      "source": [
        "train_input.shape # 자료 6만장, 가로 28, 세로 28"
      ],
      "metadata": {
        "colab": {
          "base_uri": "https://localhost:8080/"
        },
        "id": "zpQ8s_4NjXpf",
        "outputId": "5d3885a7-6b8e-4857-a688-917720703be1"
      },
      "execution_count": 12,
      "outputs": [
        {
          "output_type": "execute_result",
          "data": {
            "text/plain": [
              "(60000, 28, 28)"
            ]
          },
          "metadata": {},
          "execution_count": 12
        }
      ]
    },
    {
      "cell_type": "code",
      "source": [
        "import matplotlib.pyplot as plt\n",
        "\n",
        "plt.imshow(train_input[0], cmap='gray_r') # 데이터 확인 위해 첫번째 데이터만 흑백으로 뽑아오기"
      ],
      "metadata": {
        "colab": {
          "base_uri": "https://localhost:8080/",
          "height": 448
        },
        "id": "fbsehqHcjXkf",
        "outputId": "9ec1018a-f7b5-4b1a-ab11-32238be8e296"
      },
      "execution_count": 16,
      "outputs": [
        {
          "output_type": "execute_result",
          "data": {
            "text/plain": [
              "<matplotlib.image.AxesImage at 0x79e163621290>"
            ]
          },
          "metadata": {},
          "execution_count": 16
        },
        {
          "output_type": "display_data",
          "data": {
            "text/plain": [
              "<Figure size 640x480 with 1 Axes>"
            ],
            "image/png": "[encoded data removed]"
          },
          "metadata": {}
        }
      ]
    },
    {
      "cell_type": "code",
      "source": [],
      "metadata": {
        "id": "LwfVjh7WjXen"
      },
      "execution_count": null,
      "outputs": []
    },
    {
      "cell_type": "code",
      "source": [
        "train_scaled = train_input / 255.0 # 0부터 225까지였는데 나눠주면 0과 1사이로 수들로 바뀜\n",
        "train_scaled = train_scaled.reshape(-1, 28*28) # -1 = 6만개의 데이터는 그대로 쓰고 사이즈만 변경할 것이다"
      ],
      "metadata": {
        "id": "aEeh3Y6JjXQw"
      },
      "execution_count": 17,
      "outputs": []
    },
    {
      "cell_type": "code",
      "source": [
        "# 로지스틱 회귀\n",
        "from sklearn.model_selection import cross_validate\n",
        "from sklearn.linear_model import SGDClassifier\n",
        "\n",
        "sc = SGDClassifier(loss='log_loss', max_iter=5)\n",
        "scores = cross_validate(sc, train_scaled, train_target, n_jobs=-1)\n",
        "print(scores)"
      ],
      "metadata": {
        "colab": {
          "base_uri": "https://localhost:8080/"
        },
        "id": "p3SDLAr4jWkh",
        "outputId": "6a857ae8-5600-43d0-f301-f54b78009f28"
      },
      "execution_count": 21,
      "outputs": [
        {
          "output_type": "stream",
          "name": "stdout",
          "text": [
            "{'fit_time': array([11.48087382, 11.38971925, 11.43423104, 11.35830808,  6.95724845]), 'score_time': array([0.04968524, 0.04288864, 0.04626083, 0.04990101, 0.0310626 ]), 'test_score': array([0.81641667, 0.79641667, 0.81825   , 0.83108333, 0.819     ])}\n"
          ]
        }
      ]
    },
    {
      "cell_type": "code",
      "source": [
        "import tensorflow as tf"
      ],
      "metadata": {
        "id": "ESOvkRK0pM2B"
      },
      "execution_count": 22,
      "outputs": []
    },
    {
      "cell_type": "code",
      "source": [
        "from sklearn.model_selection import train_test_split\n",
        "train_scaled, val_scaled, train_target, val_target = train_test_split(train_scaled, train_target)\n",
        "# 트레이닝 할 6만개의 데이터를 교차검증 하기 위해 다시 나누는 작업"
      ],
      "metadata": {
        "id": "0z6pOJkmpMwx"
      },
      "execution_count": 24,
      "outputs": []
    },
    {
      "cell_type": "code",
      "source": [
        "# 출력층, 입력층\n",
        "# 층이 여러개가 앞으로 여러개 쌓일 것임 = 딥러닝"
      ],
      "metadata": {
        "id": "OvwCy-yppMoA"
      },
      "execution_count": 25,
      "outputs": []
    },
    {
      "cell_type": "code",
      "source": [
        "dense = keras.layers.Dense(10, activation = 'softmax', input_shape=(784,))\n",
        "\n",
        "# dense = 밀집층 # 784개의 데이터를 통해 10개의 뉴런을 만들어 줄거야!\n",
        "# 10개로 분류할 것, activation = 활성화함수, 시그모이드함수(다중)\n",
        "# 누가 제일 높아? = 소프트맥스 함수로 감싸주면 비율로 보여주기 때문에, 가장 높은 비율을 통해"
      ],
      "metadata": {
        "colab": {
          "base_uri": "https://localhost:8080/"
        },
        "id": "LjuIGRXtpMgn",
        "outputId": "188d1690-195f-48bf-9b0f-e80293335bfc"
      },
      "execution_count": 31,
      "outputs": [
        {
          "output_type": "stream",
          "name": "stderr",
          "text": [
            "/usr/local/lib/python3.11/dist-packages/keras/src/layers/core/dense.py:87: UserWarning: Do not pass an `input_shape`/`input_dim` argument to a layer. When using Sequential models, prefer using an `Input(shape)` object as the first layer in the model instead.\n",
            "  super().__init__(activity_regularizer=activity_regularizer, **kwargs)\n"
          ]
        }
      ]
    },
    {
      "cell_type": "code",
      "source": [
        "model = keras.Sequential([dense]) # dense를 리스트로 넣어줘야한대용\n",
        "# dense층 딱 하나만 있는 모델을 우리가 만든 것"
      ],
      "metadata": {
        "id": "g-YxQxpepMYo"
      },
      "execution_count": 34,
      "outputs": []
    },
    {
      "cell_type": "code",
      "source": [
        "# 학습에 대한 기준점 주기, 만들어져 있는 모델을 쓰는 것이 아니기 때문\n",
        "# 손실함수 정의\n",
        "# 무엇을 기준으로 학습할래?, 정확도가 높은 방향으로 학습해줘\n",
        "model.compile(loss='sparse_categorical_crossentropy', metrics=['accuracy']) # 무엇을 기준으로 학습할래?, 정확도가 높은 방향으로 학습해줘"
      ],
      "metadata": {
        "id": "qaogd4WFpMMh"
      },
      "execution_count": 39,
      "outputs": []
    },
    {
      "cell_type": "code",
      "source": [
        "model.fit(train_scaled, train_target, epochs=5)\n",
        "# accuracy = 한 번씩 돌면서 정확도 높아짐"
      ],
      "metadata": {
        "colab": {
          "base_uri": "https://localhost:8080/"
        },
        "id": "5BNucwqTjMXP",
        "outputId": "a7b4c514-29e9-4c9b-cd54-896fe187a99f"
      },
      "execution_count": 40,
      "outputs": [
        {
          "output_type": "stream",
          "name": "stdout",
          "text": [
            "Epoch 1/5\n",
            "\u001b[1m1055/1055\u001b[0m \u001b[32m━━━━━━━━━━━━━━━━━━━━\u001b[0m\u001b[37m\u001b[0m \u001b[1m3s\u001b[0m 2ms/step - accuracy: 0.7203 - loss: 0.8466\n",
            "Epoch 2/5\n",
            "\u001b[1m1055/1055\u001b[0m \u001b[32m━━━━━━━━━━━━━━━━━━━━\u001b[0m\u001b[37m\u001b[0m \u001b[1m2s\u001b[0m 2ms/step - accuracy: 0.8273 - loss: 0.5046\n",
            "Epoch 3/5\n",
            "\u001b[1m1055/1055\u001b[0m \u001b[32m━━━━━━━━━━━━━━━━━━━━\u001b[0m\u001b[37m\u001b[0m \u001b[1m2s\u001b[0m 2ms/step - accuracy: 0.8413 - loss: 0.4708\n",
            "Epoch 4/5\n",
            "\u001b[1m1055/1055\u001b[0m \u001b[32m━━━━━━━━━━━━━━━━━━━━\u001b[0m\u001b[37m\u001b[0m \u001b[1m3s\u001b[0m 3ms/step - accuracy: 0.8478 - loss: 0.4421\n",
            "Epoch 5/5\n",
            "\u001b[1m1055/1055\u001b[0m \u001b[32m━━━━━━━━━━━━━━━━━━━━\u001b[0m\u001b[37m\u001b[0m \u001b[1m4s\u001b[0m 2ms/step - accuracy: 0.8506 - loss: 0.4366\n"
          ]
        },
        {
          "output_type": "execute_result",
          "data": {
            "text/plain": [
              "<keras.src.callbacks.history.History at 0x79e14a274ed0>"
            ]
          },
          "metadata": {},
          "execution_count": 40
        }
      ]
    },
    {
      "cell_type": "code",
      "source": [
        "model.evaluate(val_scaled, val_target) # = scores\n",
        "# 로지스틱 회귀보다는 점수가 좀 올라갔슈\n",
        "# 앞 번호는 손실 정도"
      ],
      "metadata": {
        "colab": {
          "base_uri": "https://localhost:8080/"
        },
        "id": "HDe0NAtPwmj7",
        "outputId": "9a29883c-61e8-4aa6-bc73-a112c8c90620"
      },
      "execution_count": 41,
      "outputs": [
        {
          "output_type": "stream",
          "name": "stdout",
          "text": [
            "\u001b[1m352/352\u001b[0m \u001b[32m━━━━━━━━━━━━━━━━━━━━\u001b[0m\u001b[37m\u001b[0m \u001b[1m1s\u001b[0m 2ms/step - accuracy: 0.8579 - loss: 0.4378\n"
          ]
        },
        {
          "output_type": "execute_result",
          "data": {
            "text/plain": [
              "[0.45221060514450073, 0.8522666692733765]"
            ]
          },
          "metadata": {},
          "execution_count": 41
        }
      ]
    }
  ]
}